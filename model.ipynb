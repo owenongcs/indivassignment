{
 "cells": [
  {
   "cell_type": "code",
   "execution_count": 22,
   "id": "8eebb850",
   "metadata": {},
   "outputs": [],
   "source": [
    "import pandas as pd \n",
    "df = pd.read_csv(\"C:/Users/Owen Ong/Desktop/Y3S2/BC3409/Indiv Assignment/Credit Card Default II (balance).csv\")"
   ]
  },
  {
   "cell_type": "code",
   "execution_count": 23,
   "id": "43de7488",
   "metadata": {},
   "outputs": [
    {
     "data": {
      "text/html": [
       "<div>\n",
       "<style scoped>\n",
       "    .dataframe tbody tr th:only-of-type {\n",
       "        vertical-align: middle;\n",
       "    }\n",
       "\n",
       "    .dataframe tbody tr th {\n",
       "        vertical-align: top;\n",
       "    }\n",
       "\n",
       "    .dataframe thead th {\n",
       "        text-align: right;\n",
       "    }\n",
       "</style>\n",
       "<table border=\"1\" class=\"dataframe\">\n",
       "  <thead>\n",
       "    <tr style=\"text-align: right;\">\n",
       "      <th></th>\n",
       "      <th>income</th>\n",
       "      <th>age</th>\n",
       "      <th>loan</th>\n",
       "      <th>default</th>\n",
       "    </tr>\n",
       "  </thead>\n",
       "  <tbody>\n",
       "    <tr>\n",
       "      <th>0</th>\n",
       "      <td>66155.92510</td>\n",
       "      <td>59.017015</td>\n",
       "      <td>8106.532131</td>\n",
       "      <td>0</td>\n",
       "    </tr>\n",
       "    <tr>\n",
       "      <th>1</th>\n",
       "      <td>34415.15397</td>\n",
       "      <td>48.117153</td>\n",
       "      <td>6564.745018</td>\n",
       "      <td>0</td>\n",
       "    </tr>\n",
       "    <tr>\n",
       "      <th>2</th>\n",
       "      <td>57317.17006</td>\n",
       "      <td>63.108049</td>\n",
       "      <td>8020.953296</td>\n",
       "      <td>0</td>\n",
       "    </tr>\n",
       "    <tr>\n",
       "      <th>3</th>\n",
       "      <td>42709.53420</td>\n",
       "      <td>45.751972</td>\n",
       "      <td>6103.642260</td>\n",
       "      <td>0</td>\n",
       "    </tr>\n",
       "    <tr>\n",
       "      <th>4</th>\n",
       "      <td>66952.68885</td>\n",
       "      <td>18.584336</td>\n",
       "      <td>8770.099235</td>\n",
       "      <td>1</td>\n",
       "    </tr>\n",
       "  </tbody>\n",
       "</table>\n",
       "</div>"
      ],
      "text/plain": [
       "        income        age         loan  default\n",
       "0  66155.92510  59.017015  8106.532131        0\n",
       "1  34415.15397  48.117153  6564.745018        0\n",
       "2  57317.17006  63.108049  8020.953296        0\n",
       "3  42709.53420  45.751972  6103.642260        0\n",
       "4  66952.68885  18.584336  8770.099235        1"
      ]
     },
     "execution_count": 23,
     "metadata": {},
     "output_type": "execute_result"
    }
   ],
   "source": [
    "df.head()"
   ]
  },
  {
   "cell_type": "code",
   "execution_count": 24,
   "id": "da04e3b2",
   "metadata": {},
   "outputs": [
    {
     "data": {
      "text/html": [
       "<div>\n",
       "<style scoped>\n",
       "    .dataframe tbody tr th:only-of-type {\n",
       "        vertical-align: middle;\n",
       "    }\n",
       "\n",
       "    .dataframe tbody tr th {\n",
       "        vertical-align: top;\n",
       "    }\n",
       "\n",
       "    .dataframe thead th {\n",
       "        text-align: right;\n",
       "    }\n",
       "</style>\n",
       "<table border=\"1\" class=\"dataframe\">\n",
       "  <thead>\n",
       "    <tr style=\"text-align: right;\">\n",
       "      <th></th>\n",
       "      <th>count</th>\n",
       "      <th>mean</th>\n",
       "      <th>std</th>\n",
       "      <th>min</th>\n",
       "      <th>25%</th>\n",
       "      <th>50%</th>\n",
       "      <th>75%</th>\n",
       "      <th>max</th>\n",
       "    </tr>\n",
       "  </thead>\n",
       "  <tbody>\n",
       "    <tr>\n",
       "      <th>income</th>\n",
       "      <td>3428.0</td>\n",
       "      <td>45136.875975</td>\n",
       "      <td>14425.486619</td>\n",
       "      <td>20014.48947</td>\n",
       "      <td>32827.211177</td>\n",
       "      <td>45546.632873</td>\n",
       "      <td>57514.794130</td>\n",
       "      <td>69995.685580</td>\n",
       "    </tr>\n",
       "    <tr>\n",
       "      <th>age</th>\n",
       "      <td>3428.0</td>\n",
       "      <td>34.795950</td>\n",
       "      <td>12.840055</td>\n",
       "      <td>-52.42328</td>\n",
       "      <td>25.171939</td>\n",
       "      <td>30.086842</td>\n",
       "      <td>44.369461</td>\n",
       "      <td>63.971796</td>\n",
       "    </tr>\n",
       "    <tr>\n",
       "      <th>loan</th>\n",
       "      <td>3428.0</td>\n",
       "      <td>5591.986695</td>\n",
       "      <td>3174.522430</td>\n",
       "      <td>1.37763</td>\n",
       "      <td>3103.357467</td>\n",
       "      <td>5540.305046</td>\n",
       "      <td>7809.377943</td>\n",
       "      <td>13766.051240</td>\n",
       "    </tr>\n",
       "    <tr>\n",
       "      <th>default</th>\n",
       "      <td>3428.0</td>\n",
       "      <td>0.500000</td>\n",
       "      <td>0.500073</td>\n",
       "      <td>0.00000</td>\n",
       "      <td>0.000000</td>\n",
       "      <td>0.500000</td>\n",
       "      <td>1.000000</td>\n",
       "      <td>1.000000</td>\n",
       "    </tr>\n",
       "  </tbody>\n",
       "</table>\n",
       "</div>"
      ],
      "text/plain": [
       "          count          mean           std          min           25%  \\\n",
       "income   3428.0  45136.875975  14425.486619  20014.48947  32827.211177   \n",
       "age      3428.0     34.795950     12.840055    -52.42328     25.171939   \n",
       "loan     3428.0   5591.986695   3174.522430      1.37763   3103.357467   \n",
       "default  3428.0      0.500000      0.500073      0.00000      0.000000   \n",
       "\n",
       "                  50%           75%           max  \n",
       "income   45546.632873  57514.794130  69995.685580  \n",
       "age         30.086842     44.369461     63.971796  \n",
       "loan      5540.305046   7809.377943  13766.051240  \n",
       "default      0.500000      1.000000      1.000000  "
      ]
     },
     "execution_count": 24,
     "metadata": {},
     "output_type": "execute_result"
    }
   ],
   "source": [
    "summary = df.describe()\n",
    "summary = summary.transpose()\n",
    "summary.head()\n"
   ]
  },
  {
   "cell_type": "code",
   "execution_count": 25,
   "id": "0a422084",
   "metadata": {},
   "outputs": [
    {
     "name": "stdout",
     "output_type": "stream",
     "text": [
      "            income        age          loan  default\n",
      "0     66155.925100  59.017015   8106.532131        0\n",
      "1     34415.153970  48.117153   6564.745018        0\n",
      "2     57317.170060  63.108049   8020.953296        0\n",
      "3     42709.534200  45.751972   6103.642260        0\n",
      "4     66952.688850  18.584336   8770.099235        1\n",
      "...            ...        ...           ...      ...\n",
      "3423  60903.191726  21.933924  10367.081892        1\n",
      "3424  62235.644695  25.033016   8083.900063        1\n",
      "3425  25597.850590  26.350344   3810.110335        1\n",
      "3426  48164.194974  23.141976   6529.652892        1\n",
      "3427  33055.808635  26.289612   5351.851138        1\n",
      "\n",
      "[3428 rows x 4 columns]\n"
     ]
    }
   ],
   "source": [
    "df = df.dropna()\n",
    "print(df)"
   ]
  },
  {
   "cell_type": "code",
   "execution_count": 26,
   "id": "fbfc1e31",
   "metadata": {},
   "outputs": [
    {
     "name": "stdout",
     "output_type": "stream",
     "text": [
      "            income        age          loan  default\n",
      "0     66155.925100  59.017015   8106.532131        0\n",
      "1     34415.153970  48.117153   6564.745018        0\n",
      "2     57317.170060  63.108049   8020.953296        0\n",
      "3     42709.534200  45.751972   6103.642260        0\n",
      "4     66952.688850  18.584336   8770.099235        1\n",
      "...            ...        ...           ...      ...\n",
      "3423  60903.191726  21.933924  10367.081892        1\n",
      "3424  62235.644695  25.033016   8083.900063        1\n",
      "3425  25597.850590  26.350344   3810.110335        1\n",
      "3426  48164.194974  23.141976   6529.652892        1\n",
      "3427  33055.808635  26.289612   5351.851138        1\n",
      "\n",
      "[3428 rows x 4 columns]\n"
     ]
    }
   ],
   "source": [
    "#remove not a number\n",
    "for i in df.columns:\n",
    "    df=df[pd.to_numeric(df[i], errors='coerce').notnull()] #make it to null then remove null\n",
    "print(df)\n",
    "\n"
   ]
  },
  {
   "cell_type": "code",
   "execution_count": 27,
   "id": "fdda3c99",
   "metadata": {},
   "outputs": [
    {
     "data": {
      "text/html": [
       "<div>\n",
       "<style scoped>\n",
       "    .dataframe tbody tr th:only-of-type {\n",
       "        vertical-align: middle;\n",
       "    }\n",
       "\n",
       "    .dataframe tbody tr th {\n",
       "        vertical-align: top;\n",
       "    }\n",
       "\n",
       "    .dataframe thead th {\n",
       "        text-align: right;\n",
       "    }\n",
       "</style>\n",
       "<table border=\"1\" class=\"dataframe\">\n",
       "  <thead>\n",
       "    <tr style=\"text-align: right;\">\n",
       "      <th></th>\n",
       "      <th>count</th>\n",
       "      <th>mean</th>\n",
       "      <th>std</th>\n",
       "      <th>min</th>\n",
       "      <th>25%</th>\n",
       "      <th>50%</th>\n",
       "      <th>75%</th>\n",
       "      <th>max</th>\n",
       "    </tr>\n",
       "  </thead>\n",
       "  <tbody>\n",
       "    <tr>\n",
       "      <th>income</th>\n",
       "      <td>3428.0</td>\n",
       "      <td>45136.875975</td>\n",
       "      <td>14425.486619</td>\n",
       "      <td>20014.489470</td>\n",
       "      <td>32827.211177</td>\n",
       "      <td>45546.632873</td>\n",
       "      <td>57514.794130</td>\n",
       "      <td>69995.685580</td>\n",
       "    </tr>\n",
       "    <tr>\n",
       "      <th>age</th>\n",
       "      <td>3428.0</td>\n",
       "      <td>34.864292</td>\n",
       "      <td>12.653256</td>\n",
       "      <td>18.055189</td>\n",
       "      <td>25.187842</td>\n",
       "      <td>30.107024</td>\n",
       "      <td>44.387971</td>\n",
       "      <td>63.971796</td>\n",
       "    </tr>\n",
       "    <tr>\n",
       "      <th>loan</th>\n",
       "      <td>3428.0</td>\n",
       "      <td>5591.986695</td>\n",
       "      <td>3174.522430</td>\n",
       "      <td>1.377630</td>\n",
       "      <td>3103.357467</td>\n",
       "      <td>5540.305046</td>\n",
       "      <td>7809.377943</td>\n",
       "      <td>13766.051240</td>\n",
       "    </tr>\n",
       "    <tr>\n",
       "      <th>default</th>\n",
       "      <td>3428.0</td>\n",
       "      <td>0.500000</td>\n",
       "      <td>0.500073</td>\n",
       "      <td>0.000000</td>\n",
       "      <td>0.000000</td>\n",
       "      <td>0.500000</td>\n",
       "      <td>1.000000</td>\n",
       "      <td>1.000000</td>\n",
       "    </tr>\n",
       "  </tbody>\n",
       "</table>\n",
       "</div>"
      ],
      "text/plain": [
       "          count          mean           std           min           25%  \\\n",
       "income   3428.0  45136.875975  14425.486619  20014.489470  32827.211177   \n",
       "age      3428.0     34.864292     12.653256     18.055189     25.187842   \n",
       "loan     3428.0   5591.986695   3174.522430      1.377630   3103.357467   \n",
       "default  3428.0      0.500000      0.500073      0.000000      0.000000   \n",
       "\n",
       "                  50%           75%           max  \n",
       "income   45546.632873  57514.794130  69995.685580  \n",
       "age         30.107024     44.387971     63.971796  \n",
       "loan      5540.305046   7809.377943  13766.051240  \n",
       "default      0.500000      1.000000      1.000000  "
      ]
     },
     "execution_count": 27,
     "metadata": {},
     "output_type": "execute_result"
    }
   ],
   "source": [
    "df[df < 0] = abs(df)\n",
    "summary = df.describe()\n",
    "summary = summary.transpose()\n",
    "summary.head()\n"
   ]
  },
  {
   "cell_type": "markdown",
   "id": "274fad31",
   "metadata": {},
   "source": [
    "I have assumed that negative numbers under age are typos after consulting the data source. (Prevent loss of data) "
   ]
  },
  {
   "cell_type": "code",
   "execution_count": 28,
   "id": "b3813472",
   "metadata": {},
   "outputs": [
    {
     "data": {
      "text/html": [
       "<div>\n",
       "<style scoped>\n",
       "    .dataframe tbody tr th:only-of-type {\n",
       "        vertical-align: middle;\n",
       "    }\n",
       "\n",
       "    .dataframe tbody tr th {\n",
       "        vertical-align: top;\n",
       "    }\n",
       "\n",
       "    .dataframe thead th {\n",
       "        text-align: right;\n",
       "    }\n",
       "</style>\n",
       "<table border=\"1\" class=\"dataframe\">\n",
       "  <thead>\n",
       "    <tr style=\"text-align: right;\">\n",
       "      <th></th>\n",
       "      <th>income</th>\n",
       "      <th>age</th>\n",
       "      <th>loan</th>\n",
       "      <th>default</th>\n",
       "    </tr>\n",
       "  </thead>\n",
       "  <tbody>\n",
       "    <tr>\n",
       "      <th>count</th>\n",
       "      <td>3428.000000</td>\n",
       "      <td>3428.000000</td>\n",
       "      <td>3428.000000</td>\n",
       "      <td>3428.000000</td>\n",
       "    </tr>\n",
       "    <tr>\n",
       "      <th>mean</th>\n",
       "      <td>45136.875975</td>\n",
       "      <td>34.864292</td>\n",
       "      <td>5591.986695</td>\n",
       "      <td>0.500000</td>\n",
       "    </tr>\n",
       "    <tr>\n",
       "      <th>std</th>\n",
       "      <td>14425.486619</td>\n",
       "      <td>12.653256</td>\n",
       "      <td>3174.522430</td>\n",
       "      <td>0.500073</td>\n",
       "    </tr>\n",
       "    <tr>\n",
       "      <th>min</th>\n",
       "      <td>20014.489470</td>\n",
       "      <td>18.055189</td>\n",
       "      <td>1.377630</td>\n",
       "      <td>0.000000</td>\n",
       "    </tr>\n",
       "    <tr>\n",
       "      <th>25%</th>\n",
       "      <td>32827.211177</td>\n",
       "      <td>25.187842</td>\n",
       "      <td>3103.357467</td>\n",
       "      <td>0.000000</td>\n",
       "    </tr>\n",
       "    <tr>\n",
       "      <th>50%</th>\n",
       "      <td>45546.632873</td>\n",
       "      <td>30.107024</td>\n",
       "      <td>5540.305046</td>\n",
       "      <td>0.500000</td>\n",
       "    </tr>\n",
       "    <tr>\n",
       "      <th>75%</th>\n",
       "      <td>57514.794130</td>\n",
       "      <td>44.387971</td>\n",
       "      <td>7809.377943</td>\n",
       "      <td>1.000000</td>\n",
       "    </tr>\n",
       "    <tr>\n",
       "      <th>max</th>\n",
       "      <td>69995.685580</td>\n",
       "      <td>63.971796</td>\n",
       "      <td>13766.051240</td>\n",
       "      <td>1.000000</td>\n",
       "    </tr>\n",
       "  </tbody>\n",
       "</table>\n",
       "</div>"
      ],
      "text/plain": [
       "             income          age          loan      default\n",
       "count   3428.000000  3428.000000   3428.000000  3428.000000\n",
       "mean   45136.875975    34.864292   5591.986695     0.500000\n",
       "std    14425.486619    12.653256   3174.522430     0.500073\n",
       "min    20014.489470    18.055189      1.377630     0.000000\n",
       "25%    32827.211177    25.187842   3103.357467     0.000000\n",
       "50%    45546.632873    30.107024   5540.305046     0.500000\n",
       "75%    57514.794130    44.387971   7809.377943     1.000000\n",
       "max    69995.685580    63.971796  13766.051240     1.000000"
      ]
     },
     "execution_count": 28,
     "metadata": {},
     "output_type": "execute_result"
    }
   ],
   "source": [
    "df.describe()"
   ]
  },
  {
   "cell_type": "code",
   "execution_count": 29,
   "id": "57a4cf04",
   "metadata": {},
   "outputs": [
    {
     "data": {
      "text/html": [
       "<div>\n",
       "<style scoped>\n",
       "    .dataframe tbody tr th:only-of-type {\n",
       "        vertical-align: middle;\n",
       "    }\n",
       "\n",
       "    .dataframe tbody tr th {\n",
       "        vertical-align: top;\n",
       "    }\n",
       "\n",
       "    .dataframe thead th {\n",
       "        text-align: right;\n",
       "    }\n",
       "</style>\n",
       "<table border=\"1\" class=\"dataframe\">\n",
       "  <thead>\n",
       "    <tr style=\"text-align: right;\">\n",
       "      <th></th>\n",
       "      <th>income</th>\n",
       "      <th>age</th>\n",
       "      <th>loan</th>\n",
       "      <th>default</th>\n",
       "    </tr>\n",
       "  </thead>\n",
       "  <tbody>\n",
       "    <tr>\n",
       "      <th>count</th>\n",
       "      <td>3428.000000</td>\n",
       "      <td>3428.000000</td>\n",
       "      <td>3428.000000</td>\n",
       "      <td>3428.000000</td>\n",
       "    </tr>\n",
       "    <tr>\n",
       "      <th>mean</th>\n",
       "      <td>45136.875975</td>\n",
       "      <td>34.864292</td>\n",
       "      <td>5591.986695</td>\n",
       "      <td>0.500000</td>\n",
       "    </tr>\n",
       "    <tr>\n",
       "      <th>std</th>\n",
       "      <td>14425.486619</td>\n",
       "      <td>12.653256</td>\n",
       "      <td>3174.522430</td>\n",
       "      <td>0.500073</td>\n",
       "    </tr>\n",
       "    <tr>\n",
       "      <th>min</th>\n",
       "      <td>20014.489470</td>\n",
       "      <td>18.055189</td>\n",
       "      <td>1.377630</td>\n",
       "      <td>0.000000</td>\n",
       "    </tr>\n",
       "    <tr>\n",
       "      <th>25%</th>\n",
       "      <td>32827.211177</td>\n",
       "      <td>25.187842</td>\n",
       "      <td>3103.357467</td>\n",
       "      <td>0.000000</td>\n",
       "    </tr>\n",
       "    <tr>\n",
       "      <th>50%</th>\n",
       "      <td>45546.632873</td>\n",
       "      <td>30.107024</td>\n",
       "      <td>5540.305046</td>\n",
       "      <td>0.500000</td>\n",
       "    </tr>\n",
       "    <tr>\n",
       "      <th>75%</th>\n",
       "      <td>57514.794130</td>\n",
       "      <td>44.387971</td>\n",
       "      <td>7809.377943</td>\n",
       "      <td>1.000000</td>\n",
       "    </tr>\n",
       "    <tr>\n",
       "      <th>max</th>\n",
       "      <td>69995.685580</td>\n",
       "      <td>63.971796</td>\n",
       "      <td>13766.051240</td>\n",
       "      <td>1.000000</td>\n",
       "    </tr>\n",
       "  </tbody>\n",
       "</table>\n",
       "</div>"
      ],
      "text/plain": [
       "             income          age          loan      default\n",
       "count   3428.000000  3428.000000   3428.000000  3428.000000\n",
       "mean   45136.875975    34.864292   5591.986695     0.500000\n",
       "std    14425.486619    12.653256   3174.522430     0.500073\n",
       "min    20014.489470    18.055189      1.377630     0.000000\n",
       "25%    32827.211177    25.187842   3103.357467     0.000000\n",
       "50%    45546.632873    30.107024   5540.305046     0.500000\n",
       "75%    57514.794130    44.387971   7809.377943     1.000000\n",
       "max    69995.685580    63.971796  13766.051240     1.000000"
      ]
     },
     "execution_count": 29,
     "metadata": {},
     "output_type": "execute_result"
    }
   ],
   "source": [
    "#remove outlier\n",
    "import numpy as np\n",
    "from scipy import stats\n",
    "z = stats.zscore(df.astype(float))\n",
    "abs_z = np.abs(z)\n",
    "filtered = (abs_z < 8).all(axis=1)\n",
    "df = df[filtered]\n",
    "\n",
    "df.describe()"
   ]
  },
  {
   "cell_type": "code",
   "execution_count": 30,
   "id": "74b44855",
   "metadata": {},
   "outputs": [
    {
     "data": {
      "text/html": [
       "<div>\n",
       "<style scoped>\n",
       "    .dataframe tbody tr th:only-of-type {\n",
       "        vertical-align: middle;\n",
       "    }\n",
       "\n",
       "    .dataframe tbody tr th {\n",
       "        vertical-align: top;\n",
       "    }\n",
       "\n",
       "    .dataframe thead th {\n",
       "        text-align: right;\n",
       "    }\n",
       "</style>\n",
       "<table border=\"1\" class=\"dataframe\">\n",
       "  <thead>\n",
       "    <tr style=\"text-align: right;\">\n",
       "      <th></th>\n",
       "      <th>income</th>\n",
       "      <th>age</th>\n",
       "      <th>loan</th>\n",
       "      <th>default</th>\n",
       "    </tr>\n",
       "  </thead>\n",
       "  <tbody>\n",
       "    <tr>\n",
       "      <th>count</th>\n",
       "      <td>3428.000000</td>\n",
       "      <td>3428.000000</td>\n",
       "      <td>3428.000000</td>\n",
       "      <td>3428.000000</td>\n",
       "    </tr>\n",
       "    <tr>\n",
       "      <th>mean</th>\n",
       "      <td>0.502637</td>\n",
       "      <td>0.366079</td>\n",
       "      <td>0.406156</td>\n",
       "      <td>0.500000</td>\n",
       "    </tr>\n",
       "    <tr>\n",
       "      <th>std</th>\n",
       "      <td>0.288618</td>\n",
       "      <td>0.275570</td>\n",
       "      <td>0.230628</td>\n",
       "      <td>0.500073</td>\n",
       "    </tr>\n",
       "    <tr>\n",
       "      <th>min</th>\n",
       "      <td>0.000000</td>\n",
       "      <td>0.000000</td>\n",
       "      <td>0.000000</td>\n",
       "      <td>0.000000</td>\n",
       "    </tr>\n",
       "    <tr>\n",
       "      <th>25%</th>\n",
       "      <td>0.256351</td>\n",
       "      <td>0.155339</td>\n",
       "      <td>0.225358</td>\n",
       "      <td>0.000000</td>\n",
       "    </tr>\n",
       "    <tr>\n",
       "      <th>50%</th>\n",
       "      <td>0.510835</td>\n",
       "      <td>0.262472</td>\n",
       "      <td>0.402402</td>\n",
       "      <td>0.500000</td>\n",
       "    </tr>\n",
       "    <tr>\n",
       "      <th>75%</th>\n",
       "      <td>0.750288</td>\n",
       "      <td>0.573491</td>\n",
       "      <td>0.567249</td>\n",
       "      <td>1.000000</td>\n",
       "    </tr>\n",
       "    <tr>\n",
       "      <th>max</th>\n",
       "      <td>1.000000</td>\n",
       "      <td>1.000000</td>\n",
       "      <td>1.000000</td>\n",
       "      <td>1.000000</td>\n",
       "    </tr>\n",
       "  </tbody>\n",
       "</table>\n",
       "</div>"
      ],
      "text/plain": [
       "            income          age         loan      default\n",
       "count  3428.000000  3428.000000  3428.000000  3428.000000\n",
       "mean      0.502637     0.366079     0.406156     0.500000\n",
       "std       0.288618     0.275570     0.230628     0.500073\n",
       "min       0.000000     0.000000     0.000000     0.000000\n",
       "25%       0.256351     0.155339     0.225358     0.000000\n",
       "50%       0.510835     0.262472     0.402402     0.500000\n",
       "75%       0.750288     0.573491     0.567249     1.000000\n",
       "max       1.000000     1.000000     1.000000     1.000000"
      ]
     },
     "execution_count": 30,
     "metadata": {},
     "output_type": "execute_result"
    }
   ],
   "source": [
    "normalized_df=(df-df.min())/(df.max()-df.min())\n",
    "\n",
    "normalized_df.describe()"
   ]
  },
  {
   "cell_type": "code",
   "execution_count": 33,
   "id": "8e688fff",
   "metadata": {},
   "outputs": [
    {
     "name": "stdout",
     "output_type": "stream",
     "text": [
      "        income       age      loan\n",
      "0     0.923176  0.892092  0.588837\n",
      "1     0.288122  0.654708  0.476827\n",
      "2     0.746334  0.981189  0.582620\n",
      "3     0.454072  0.603198  0.443328\n",
      "4     0.939117  0.011524  0.637045\n",
      "...        ...       ...       ...\n",
      "3423  0.818082  0.084473  0.753066\n",
      "3424  0.844741  0.151967  0.587193\n",
      "3425  0.111709  0.180657  0.276703\n",
      "3426  0.563206  0.110783  0.474278\n",
      "3427  0.260925  0.179334  0.388711\n",
      "\n",
      "[3428 rows x 3 columns] 0       0.0\n",
      "1       0.0\n",
      "2       0.0\n",
      "3       0.0\n",
      "4       1.0\n",
      "       ... \n",
      "3423    1.0\n",
      "3424    1.0\n",
      "3425    1.0\n",
      "3426    1.0\n",
      "3427    1.0\n",
      "Name: default, Length: 3428, dtype: float64\n"
     ]
    }
   ],
   "source": [
    "X = normalized_df.loc[:,[\"income\", \"age\", \"loan\"]]\n",
    "Y = normalized_df.loc[:, \"default\"]\n",
    "print(X,Y)\n"
   ]
  },
  {
   "cell_type": "markdown",
   "id": "1e7cd7a1",
   "metadata": {},
   "source": [
    "# Split Train Test"
   ]
  },
  {
   "cell_type": "code",
   "execution_count": 49,
   "id": "d2a55677",
   "metadata": {},
   "outputs": [
    {
     "name": "stdout",
     "output_type": "stream",
     "text": [
      "        income       age      loan\n",
      "2235  0.541496  0.236068  0.458176\n",
      "984   0.425577  0.105754  0.038557\n",
      "1200  0.516709  0.309585  0.384888\n",
      "831   0.902808  0.524384  0.751983\n",
      "1404  0.816876  0.919056  0.480040\n",
      "...        ...       ...       ...\n",
      "334   0.092923  0.901228  0.042807\n",
      "68    0.371148  0.068849  0.407041\n",
      "33    0.118803  0.873972  0.153133\n",
      "122   0.322159  0.097583  0.108510\n",
      "2584  0.536589  0.048004  0.530907\n",
      "\n",
      "[2399 rows x 3 columns]         income       age      loan\n",
      "297   0.144136  0.808331  0.301033\n",
      "570   0.449405  0.618143  0.605376\n",
      "3377  0.480639  0.114751  0.563017\n",
      "3369  0.513301  0.106022  0.462082\n",
      "2360  0.624937  0.185508  0.614605\n",
      "...        ...       ...       ...\n",
      "1620  0.872784  0.191582  0.723144\n",
      "1247  0.048710  0.385712  0.086166\n",
      "1603  0.454881  0.835513  0.336017\n",
      "1777  0.841317  0.103899  0.215843\n",
      "481   0.718669  0.929948  0.409875\n",
      "\n",
      "[1029 rows x 3 columns] 2235    1.0\n",
      "984     0.0\n",
      "1200    0.0\n",
      "831     0.0\n",
      "1404    0.0\n",
      "       ... \n",
      "334     0.0\n",
      "68      1.0\n",
      "33      0.0\n",
      "122     0.0\n",
      "2584    1.0\n",
      "Name: default, Length: 2399, dtype: float64 297     0.0\n",
      "570     0.0\n",
      "3377    1.0\n",
      "3369    1.0\n",
      "2360    1.0\n",
      "       ... \n",
      "1620    1.0\n",
      "1247    0.0\n",
      "1603    0.0\n",
      "1777    0.0\n",
      "481     0.0\n",
      "Name: default, Length: 1029, dtype: float64\n"
     ]
    }
   ],
   "source": [
    "#split train test\n",
    "from sklearn.model_selection import train_test_split\n",
    "X_train, X_test, Y_train, Y_test = train_test_split(X, Y, test_size=0.3)\n",
    "print(X_train, X_test, Y_train, Y_test)"
   ]
  },
  {
   "cell_type": "markdown",
   "id": "2f58bf10",
   "metadata": {},
   "source": [
    "# Logistic Regression"
   ]
  },
  {
   "cell_type": "code",
   "execution_count": 50,
   "id": "4c1356d1",
   "metadata": {},
   "outputs": [
    {
     "name": "stdout",
     "output_type": "stream",
     "text": [
      "[[1113  103]\n",
      " [  10 1173]]\n",
      "train accuracy: 0.952897040433514\n",
      "[[440  58]\n",
      " [  3 528]]\n",
      "test accuracy: 0.9407191448007775\n"
     ]
    }
   ],
   "source": [
    "from sklearn import linear_model\n",
    "from sklearn.metrics import confusion_matrix\n",
    "from sklearn.model_selection import GridSearchCV\n",
    "\n",
    "model=linear_model.LogisticRegression()\n",
    "model.fit(X_train, Y_train)\n",
    "pred=model.predict(X_train)\n",
    "cm = confusion_matrix(Y_train, pred)\n",
    "print(cm)\n",
    "train_accuracy = (cm[0,0] + cm[1,1])/sum(sum(cm))\n",
    "print('train accuracy:' ,train_accuracy)\n",
    "\n",
    "pred=model.predict(X_test)\n",
    "cm = confusion_matrix(Y_test, pred)\n",
    "print(cm)\n",
    "test_accuracy = (cm[0,0] + cm[1,1])/sum(sum(cm))\n",
    "print('test accuracy:' ,test_accuracy)"
   ]
  },
  {
   "cell_type": "markdown",
   "id": "dc0f19b2",
   "metadata": {},
   "source": [
    "# Decision Tree"
   ]
  },
  {
   "cell_type": "markdown",
   "id": "a60c6fd3",
   "metadata": {},
   "source": [
    "Hyperparameter Optimizer\n",
    "\n",
    "Hyperparameters chosen: Max_Depth, as well as Min_Samples_Split"
   ]
  },
  {
   "cell_type": "code",
   "execution_count": 71,
   "id": "43457965",
   "metadata": {},
   "outputs": [
    {
     "data": {
      "text/plain": [
       "DecisionTreeClassifier(max_depth=11, min_samples_split=3)"
      ]
     },
     "execution_count": 71,
     "metadata": {},
     "output_type": "execute_result"
    }
   ],
   "source": [
    "from sklearn.model_selection import GridSearchCV\n",
    "\n",
    "model=tree.DecisionTreeClassifier(max_depth=10, min_samples_split=3)\n",
    "g = GridSearchCV(estimator=model, param_grid=dict(max_depth=[i for i in range(1,20)],min_samples_split=[i for i in range(3,20)]))\n",
    "\n",
    "g = g.fit(X_train, Y_train)\n",
    "\n",
    "g.best_params_\n",
    "\n",
    "model = tree.DecisionTreeClassifier(max_depth = g.best_params_[\"max_depth\"], min_samples_split = g.best_params_[\"min_samples_split\"])\n",
    "model.fit(X_train, Y_train)"
   ]
  },
  {
   "cell_type": "code",
   "execution_count": 70,
   "id": "762bdadf",
   "metadata": {},
   "outputs": [
    {
     "name": "stdout",
     "output_type": "stream",
     "text": [
      "train cm: [[1216    0]\n",
      " [   1 1182]]\n",
      "train accuracy: 0.9995831596498541\n",
      "test cm: [[494   4]\n",
      " [  0 531]]\n",
      "test accuracy: 0.9961127308066083\n"
     ]
    }
   ],
   "source": [
    "from sklearn import tree\n",
    "\n",
    "model=tree.DecisionTreeClassifier(max_depth=17, min_samples_split=3)\n",
    "model.fit(X_train, Y_train)\n",
    "pred=model.predict(X_train)\n",
    "cm = confusion_matrix(Y_train, pred)\n",
    "print('train cm:' ,cm)\n",
    "accuracy = (cm[0,0] + cm[1,1])/sum(sum(cm))\n",
    "print('train accuracy:' ,accuracy)\n",
    "\n",
    "pred=model.predict(X_test)\n",
    "cm = confusion_matrix(Y_test, pred)\n",
    "print('test cm:', cm)\n",
    "accuracy = (cm[0,0] + cm[1,1])/sum(sum(cm))\n",
    "print('test accuracy:' ,accuracy)\n"
   ]
  },
  {
   "cell_type": "markdown",
   "id": "2e293d82",
   "metadata": {},
   "source": [
    "# Random Forest"
   ]
  },
  {
   "cell_type": "markdown",
   "id": "d9e18347",
   "metadata": {},
   "source": [
    "Hyperparameter Optimizer\n",
    "\n",
    "Hyperparameters chosen: Max_Depth, as well as Min_Samples_Split \n",
    "\n",
    "(the gridsearchCV takes a while so i have only ran this once)"
   ]
  },
  {
   "cell_type": "markdown",
   "id": "87aad91d",
   "metadata": {},
   "source": [
    "from sklearn.model_selection import GridSearchCV\n",
    "\n",
    "model=RandomForestRegressor(max_depth=10, min_samples_split=3)\n",
    "g = GridSearchCV(estimator=model, param_grid=dict(max_depth=[i for i in range(1,20)],min_samples_split=[i for i in range(3,20)]))\n",
    "\n",
    "g = g.fit(X_train, Y_train)\n",
    "\n",
    "g.best_params_\n",
    "\n",
    "model = RandomForestRegressor(max_depth = g.best_params_[\"max_depth\"], min_samples_split = g.best_params_[\"min_samples_split\"])\n",
    "model.fit(X_train, Y_train)"
   ]
  },
  {
   "cell_type": "code",
   "execution_count": 52,
   "id": "fb286753",
   "metadata": {},
   "outputs": [
    {
     "name": "stdout",
     "output_type": "stream",
     "text": [
      "train rmse: 0.22832093345693877\n",
      "train accuracy: 0.9727891156462585\n",
      "test rmse: 0.22897623789367813\n",
      "test accuracy: 0.9727891156462585\n"
     ]
    }
   ],
   "source": [
    "from sklearn.ensemble import RandomForestRegressor\n",
    "model = RandomForestRegressor(max_depth=18,min_samples_split=4)\n",
    "model.fit(X_train, Y_train)\n",
    "pred = model.predict(X_train)\n",
    "\n",
    "from sklearn.metrics import mean_squared_error\n",
    "rmse = mean_squared_error(pred, Y_train)**0.5\n",
    "print('train rmse:' , rmse)\n",
    "accuracy = (cm[0,0] + cm[1,1])/sum(sum(cm))\n",
    "print('train accuracy:' ,accuracy)\n",
    "\n",
    "pred = model.predict(X_test)\n",
    "rmse = mean_squared_error(pred, Y_test)**0.5\n",
    "print('test rmse:' , rmse)\n",
    "accuracy = (cm[0,0] + cm[1,1])/sum(sum(cm))\n",
    "print('test accuracy:' ,accuracy)\n"
   ]
  },
  {
   "cell_type": "markdown",
   "id": "d3a8955a",
   "metadata": {},
   "source": [
    "# XGBoost "
   ]
  },
  {
   "cell_type": "markdown",
   "id": "c2026641",
   "metadata": {},
   "source": [
    "Hyperparameters chosen for finetuning: Max_Depth"
   ]
  },
  {
   "cell_type": "code",
   "execution_count": 84,
   "id": "7249b5a8",
   "metadata": {},
   "outputs": [
    {
     "data": {
      "text/plain": [
       "GradientBoostingClassifier(max_depth=7)"
      ]
     },
     "execution_count": 84,
     "metadata": {},
     "output_type": "execute_result"
    }
   ],
   "source": [
    "from sklearn.model_selection import GridSearchCV\n",
    "\n",
    "XGB_model=GradientBoostingClassifier(max_depth=10)\n",
    "g = GridSearchCV(estimator=XGB_model, param_grid=dict(max_depth=[i for i in range(1,20)]))\n",
    "\n",
    "g = g.fit(X_train, Y_train)\n",
    "\n",
    "g.best_params_\n",
    "\n",
    "XGB_model = GradientBoostingClassifier(max_depth = g.best_params_[\"max_depth\"])\n",
    "XGB_model.fit(X_train, Y_train)"
   ]
  },
  {
   "cell_type": "code",
   "execution_count": 85,
   "id": "8bc88d62",
   "metadata": {},
   "outputs": [
    {
     "name": "stdout",
     "output_type": "stream",
     "text": [
      "train cm: [[1216    0]\n",
      " [   0 1183]]\n",
      "train accuracy: 1.0\n",
      "test cm: [[494   4]\n",
      " [  0 531]]\n",
      "test accuracy: 0.9961127308066083\n"
     ]
    }
   ],
   "source": [
    "from sklearn.ensemble import GradientBoostingClassifier\n",
    "XGB_model = GradientBoostingClassifier(max_depth=7)\n",
    "XGB_model.fit(X_train, Y_train)\n",
    "pred = XGB_model.predict(X_train)\n",
    "\n",
    "from sklearn.metrics import confusion_matrix\n",
    "cm = confusion_matrix(Y_train, pred)\n",
    "print('train cm:' ,cm)\n",
    "accuracy = (cm[0,0] + cm[1,1])/sum(sum(cm))\n",
    "print('train accuracy:' ,accuracy)\n",
    "\n",
    "pred = XGB_model.predict(X_test)\n",
    "cm = confusion_matrix(Y_test, pred)\n",
    "print('test cm:' ,cm)\n",
    "accuracy = (cm[0,0] + cm[1,1])/sum(sum(cm))\n",
    "print('test accuracy:' ,accuracy)\n"
   ]
  },
  {
   "cell_type": "markdown",
   "id": "07b2e239",
   "metadata": {},
   "source": [
    "# Neural Network with MLP"
   ]
  },
  {
   "cell_type": "code",
   "execution_count": 65,
   "id": "21da8106",
   "metadata": {},
   "outputs": [
    {
     "name": "stdout",
     "output_type": "stream",
     "text": [
      "Epoch 1/15\n",
      "240/240 [==============================] - 0s 565us/step - loss: 0.6947 - accuracy: 0.5381\n",
      "Epoch 2/15\n",
      "240/240 [==============================] - 0s 544us/step - loss: 0.6637 - accuracy: 0.6386\n",
      "Epoch 3/15\n",
      "240/240 [==============================] - 0s 535us/step - loss: 0.6362 - accuracy: 0.6811\n",
      "Epoch 4/15\n",
      "240/240 [==============================] - 0s 524us/step - loss: 0.6110 - accuracy: 0.7186\n",
      "Epoch 5/15\n",
      "240/240 [==============================] - 0s 561us/step - loss: 0.5708 - accuracy: 0.7603\n",
      "Epoch 6/15\n",
      "240/240 [==============================] - 0s 519us/step - loss: 0.5365 - accuracy: 0.7820\n",
      "Epoch 7/15\n",
      "240/240 [==============================] - 0s 553us/step - loss: 0.5060 - accuracy: 0.8020\n",
      "Epoch 8/15\n",
      "240/240 [==============================] - 0s 540us/step - loss: 0.4686 - accuracy: 0.8112\n",
      "Epoch 9/15\n",
      "240/240 [==============================] - 0s 562us/step - loss: 0.4460 - accuracy: 0.8316\n",
      "Epoch 10/15\n",
      "240/240 [==============================] - 0s 550us/step - loss: 0.4235 - accuracy: 0.8462\n",
      "Epoch 11/15\n",
      "240/240 [==============================] - 0s 578us/step - loss: 0.3858 - accuracy: 0.8595\n",
      "Epoch 12/15\n",
      "240/240 [==============================] - 0s 572us/step - loss: 0.3603 - accuracy: 0.8683\n",
      "Epoch 13/15\n",
      "240/240 [==============================] - 0s 544us/step - loss: 0.3449 - accuracy: 0.8712\n",
      "Epoch 14/15\n",
      "240/240 [==============================] - 0s 549us/step - loss: 0.3247 - accuracy: 0.8808\n",
      "Epoch 15/15\n",
      "240/240 [==============================] - 0s 510us/step - loss: 0.2991 - accuracy: 0.8979\n",
      "75/75 [==============================] - 0s 616us/step - loss: 0.2085 - accuracy: 0.9550\n",
      "33/33 [==============================] - 0s 774us/step - loss: 0.2089 - accuracy: 0.9485\n",
      "train cm: [[1118   98]\n",
      " [  10 1173]]\n",
      "train cm: 0.9549812421842434\n",
      "test cm: [[449  49]\n",
      " [  4 527]]\n",
      "test cm: 0.9484936831875608\n"
     ]
    }
   ],
   "source": [
    "from keras.models import Sequential\n",
    "from keras.layers import Dense, Dropout\n",
    "\n",
    "NN_model=Sequential()\n",
    "model.add(Dense(10, input_dim=3, activation='relu'))\n",
    "model.add(Dropout(0.2))\n",
    "\n",
    "model.add(Dense(8, activation=\"relu\"))\n",
    "model.add(Dropout(0.3))\n",
    "\n",
    "model.add(Dense(1, activation='sigmoid'))\n",
    "model.compile(loss = 'binary_crossentropy', optimizer = 'Adamax', metrics = ['accuracy'])\n",
    "\n",
    "model.fit(X_train, Y_train, batch_size = 10, epochs=15, verbose=1)\n",
    "model.evaluate(X_train, Y_train)\n",
    "model.evaluate(X_test, Y_test)\n"
   ]
  },
  {
   "cell_type": "code",
   "execution_count": null,
   "id": "584efff0",
   "metadata": {},
   "outputs": [],
   "source": [
    "#Accuracy of Model\n",
    "pred=model.predict(X_train)\n",
    "pred=np.where(pred>0.5,1,0)\n",
    "cm=confusion_matrix(Y_train, pred)\n",
    "print('train cm:' ,cm)\n",
    "accuracy=(cm[0,0]+cm[1,1])/sum(sum(cm))\n",
    "print('train cm:',accuracy)\n",
    "\n",
    "pred=model.predict(X_test)\n",
    "pred=np.where(pred>0.5,1,0)\n",
    "cm=confusion_matrix(Y_test, pred)\n",
    "print('test cm:',cm)\n",
    "accuracy=(cm[0,0]+cm[1,1])/sum(sum(cm))\n",
    "print('test cm:',accuracy)\n"
   ]
  },
  {
   "cell_type": "code",
   "execution_count": 88,
   "id": "97ee8dbf",
   "metadata": {},
   "outputs": [
    {
     "data": {
      "text/plain": [
       "['model']"
      ]
     },
     "execution_count": 88,
     "metadata": {},
     "output_type": "execute_result"
    }
   ],
   "source": [
    "import joblib \n",
    "joblib.dump(XGB_model, \"model\")"
   ]
  },
  {
   "cell_type": "code",
   "execution_count": null,
   "id": "9070abaf",
   "metadata": {},
   "outputs": [],
   "source": []
  }
 ],
 "metadata": {
  "kernelspec": {
   "display_name": "Python 3",
   "language": "python",
   "name": "python3"
  },
  "language_info": {
   "codemirror_mode": {
    "name": "ipython",
    "version": 3
   },
   "file_extension": ".py",
   "mimetype": "text/x-python",
   "name": "python",
   "nbconvert_exporter": "python",
   "pygments_lexer": "ipython3",
   "version": "3.8.8"
  }
 },
 "nbformat": 4,
 "nbformat_minor": 5
}
